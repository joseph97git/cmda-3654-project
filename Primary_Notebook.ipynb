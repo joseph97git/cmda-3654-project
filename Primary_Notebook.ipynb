{
 "cells": [
  {
   "cell_type": "markdown",
   "metadata": {},
   "source": [
    "# Project Part 2\n",
    "<br>\n",
    "> **Analyze the Data and Identify Initial Hypotheses**\n",
    "<br>\n",
    "###### Project Members:\n",
    "> Joseph Kim\n",
    "<br>\n",
    "> Ash Deval\n",
    "<br>\n",
    "> Tori Bird\n",
    "<br>\n",
    "##### Initial Hypotheses:\n",
    "> Our main general hypothesis is to define any suspicious behavior whithin the context of this situation. So far we have begun exploring three different avenues for defining suspicious behavior. First, is emails sent to addresses outside of the company's email address, meaning any email address not including @dtaa. Here we are assuming that our suspect is likely to have send information to a person outside of the company. It follows that this email is likely to include attachments and be a larger file **(See ToriBird_Project file)**. Second, is emails sent at an unsual hour. We are assuming that the perpetrator sent this information with as little people around to avoid being caught in the act **(See AshDeval_Project file)**. Lastly, we are looking into how each person's role correlates to their PC access. If a person has the role of being a factory line worker, and we see that they are accessing multiple PCs, then we would define that as suspicious behavoir. Additionally we decieded to look at suspicious webistes that are not commonly accessed, but that avenue does not seem to be helpful so far **(See JosephKim_Project file)**. \n",
    "<br>\n",
    "##### Next Steps:\n",
    "> Our next steps are to cross-reference each of these avenues and narrow down the list of possible suspects. We hope to achieve this by plotting user access over time as well as emails sent to people outside the companies email address system and the various roles of each user. Ideally, we hope to find a person who has sent emails with attchments outside the company, has accessed a PC at an unusal hour, and has a role that does not support their access of multple PCs. \n",
    "<br>\n",
    "> Most likely we will be able to narrow down this list to a handful of people. We would probably then look more closely into each person's access and define suspicious behavior based on that person's invididual schedule. For example, a person who usually accesses their computer between the hours of 7am - 6pm suddenly accesses their computer at 2am. "
   ]
  }
 ],
 "metadata": {
  "kernelspec": {
   "display_name": "Python 3",
   "language": "python",
   "name": "python3"
  },
  "language_info": {
   "codemirror_mode": {
    "name": "ipython",
    "version": 3
   },
   "file_extension": ".py",
   "mimetype": "text/x-python",
   "name": "python",
   "nbconvert_exporter": "python",
   "pygments_lexer": "ipython3",
   "version": "3.6.1"
  }
 },
 "nbformat": 4,
 "nbformat_minor": 2
}
