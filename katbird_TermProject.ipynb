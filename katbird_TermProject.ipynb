{
 "cells": [
  {
   "cell_type": "markdown",
   "metadata": {},
   "source": [
    "Group Members: Ash Deval, Joseph Kim, Tori Bird\n",
    "Current Hypothesis:\n",
    "Currently we are trying to narrow down the number of suspicious employees by looking at their email activity, checking if attachments were sent out, and if several emails were sent to addresses outside of dtaa.com. From there we would look at what devices they have connected to, and which websites they visit, and logon times. We will also look into unusual logon times that are far outside the normal 8-5 work day. We also want to filter out any commonly visited websites and associate those websites with who has logged visited them and from what computer."
   ]
  },
  {
   "cell_type": "code",
   "execution_count": null,
   "metadata": {
    "collapsed": true
   },
   "outputs": [],
   "source": [
    "import pandas\n",
    "import numpy\n",
    "devices = pandas.read_csv('device_info.csv') \n",
    "emails = pandas.read_csv('email_info.csv')\n",
    "employees = pandas.read_csv('employee_info.csv') \n",
    "websites = pandas.read_csv('http_info.csv')\n",
    "logons = pandas.read_csv('logon_info.csv')"
   ]
  },
  {
   "cell_type": "code",
   "execution_count": null,
   "metadata": {
    "collapsed": true
   },
   "outputs": [],
   "source": [
    "devices"
   ]
  },
  {
   "cell_type": "code",
   "execution_count": null,
   "metadata": {
    "collapsed": true
   },
   "outputs": [],
   "source": [
    "emails"
   ]
  },
  {
   "cell_type": "code",
   "execution_count": null,
   "metadata": {
    "collapsed": true
   },
   "outputs": [],
   "source": [
    "employees"
   ]
  },
  {
   "cell_type": "code",
   "execution_count": null,
   "metadata": {
    "collapsed": true
   },
   "outputs": [],
   "source": [
    "websites"
   ]
  },
  {
   "cell_type": "code",
   "execution_count": null,
   "metadata": {
    "collapsed": true
   },
   "outputs": [],
   "source": [
    "logons"
   ]
  },
  {
   "cell_type": "code",
   "execution_count": null,
   "metadata": {
    "collapsed": true
   },
   "outputs": [],
   "source": [
    "emailwAttachments =  emails.loc[emails['attachments'] !=0 ]\n",
    "emailwAttachments"
   ]
  },
  {
   "cell_type": "code",
   "execution_count": null,
   "metadata": {
    "collapsed": true
   },
   "outputs": [],
   "source": [
    "#create table of emails sent to outside email address\n",
    "#split on ; and split on @ and look for not dtaa.com\n",
    "table = emails.iloc[:,1:]\n",
    "table"
   ]
  },
  {
   "cell_type": "code",
   "execution_count": null,
   "metadata": {
    "collapsed": true
   },
   "outputs": [],
   "source": [
    "table.to = table.to.apply(lambda t: t.replace(';', ' '))\n",
    "\n",
    "def emailFilter(email):\n",
    "    if \"@dtaa.com\" not in email:\n",
    "        return email   \n",
    "table.to = table.to.apply(lambda t: emailFilter(t))\n",
    "table = table[table.to.notnull()]\n",
    "table"
   ]
  },
  {
   "cell_type": "code",
   "execution_count": null,
   "metadata": {
    "collapsed": true
   },
   "outputs": [],
   "source": [
    "table2 = table.groupby('from').to.aggregate(\" \".join).reset_index()\n",
    "table2"
   ]
  },
  {
   "cell_type": "code",
   "execution_count": null,
   "metadata": {
    "collapsed": true
   },
   "outputs": [],
   "source": [
    "table3 = table2\n",
    "table3.to = table3.to.apply(lambda t: t.split(' '))\n",
    "table3"
   ]
  },
  {
   "cell_type": "code",
   "execution_count": null,
   "metadata": {
    "collapsed": true
   },
   "outputs": [],
   "source": [
    "table3['number'] = table3.to.apply(lambda t: len(t))\n",
    "table3"
   ]
  },
  {
   "cell_type": "code",
   "execution_count": null,
   "metadata": {
    "collapsed": true
   },
   "outputs": [],
   "source": [
    "table3 = table3[table3.number > 50]\n",
    "table3"
   ]
  },
  {
   "cell_type": "code",
   "execution_count": null,
   "metadata": {
    "collapsed": true
   },
   "outputs": [],
   "source": [
    "suspects = ['Levi.Keegan.Foley@dtaa.com', 'Palmer.Ahmed.Sutton@dtaa.com', 'Carson.Caesar.Olson@dtaa.com', 'Jada.Quinn.Vang@dtaa.com'\n",
    "           'Chaney.Sean.Fuentes@dtaa.com', 'Cedric.Cyrus.Harrison@dtaa.com']"
   ]
  },
  {
   "cell_type": "code",
   "execution_count": null,
   "metadata": {
    "collapsed": true
   },
   "outputs": [],
   "source": [
    "table4 = table.set_index(\"from\", drop = False)\n",
    "table4"
   ]
  },
  {
   "cell_type": "code",
   "execution_count": null,
   "metadata": {
    "collapsed": true
   },
   "outputs": [],
   "source": [
    "suspect1 = table4.loc[\"Levi.Keegan.Foley@dtaa.com\", :]\n",
    "suspect1"
   ]
  },
  {
   "cell_type": "code",
   "execution_count": null,
   "metadata": {},
   "outputs": [],
   "source": [
    "len(suspect1)"
   ]
  },
  {
   "cell_type": "code",
   "execution_count": null,
   "metadata": {
    "collapsed": true
   },
   "outputs": [],
   "source": [
    "suspect2 = table4.loc[\"Palmer.Ahmed.Sutton@dtaa.com\", :]\n",
    "suspect2"
   ]
  },
  {
   "cell_type": "code",
   "execution_count": null,
   "metadata": {},
   "outputs": [],
   "source": [
    "len(suspect2)"
   ]
  },
  {
   "cell_type": "code",
   "execution_count": null,
   "metadata": {
    "collapsed": true
   },
   "outputs": [],
   "source": [
    "suspect3 = table4.loc[\"Carson.Caesar.Olson@dtaa.com\", :]\n",
    "suspect3"
   ]
  },
  {
   "cell_type": "code",
   "execution_count": null,
   "metadata": {},
   "outputs": [],
   "source": [
    "len(suspect3)"
   ]
  },
  {
   "cell_type": "code",
   "execution_count": null,
   "metadata": {
    "collapsed": true
   },
   "outputs": [],
   "source": [
    "suspect4 = table4.loc[\"Jada.Quinn.Vang@dtaa.com\", :]\n",
    "suspect4"
   ]
  },
  {
   "cell_type": "code",
   "execution_count": null,
   "metadata": {
    "collapsed": true
   },
   "outputs": [],
   "source": [
    "suspect5 = table4.loc[\"Chaney.Sean.Fuentes@dtaa.com\", :]\n",
    "suspect5"
   ]
  },
  {
   "cell_type": "code",
   "execution_count": null,
   "metadata": {
    "collapsed": true
   },
   "outputs": [],
   "source": [
    "suspect6 = table4.loc[\"Cedric.Cyrus.Harrison@dtaa.com\", :]\n",
    "suspect6"
   ]
  },
  {
   "cell_type": "code",
   "execution_count": null,
   "metadata": {
    "collapsed": true
   },
   "outputs": [],
   "source": [
    "suspect7 = table4.loc[\"Whilemina.Shafira.Perry@dtaa.com\", :]\n",
    "suspect7"
   ]
  },
  {
   "cell_type": "code",
   "execution_count": null,
   "metadata": {
    "collapsed": true
   },
   "outputs": [],
   "source": [
    "suspect8 = table4.loc[\"Lucian.Rajah.Lloyd@dtaa.com\", :]\n",
    "suspect8"
   ]
  },
  {
   "cell_type": "code",
   "execution_count": null,
   "metadata": {
    "collapsed": true
   },
   "outputs": [],
   "source": [
    "suspect9 = table4.loc[\"Denise.Serina.Le@dtaa.com\", :]\n",
    "suspect9"
   ]
  },
  {
   "cell_type": "code",
   "execution_count": null,
   "metadata": {
    "collapsed": true
   },
   "outputs": [],
   "source": [
    "data = emails.iloc[:,2:4]\n",
    "def emailFilterPlus(email):\n",
    "    if \"@dtaa.com\" in email:\n",
    "        return email   \n",
    "data.to = data.to.apply(lambda t: emailFilterPlus(t))\n",
    "data = data[data.to.notnull()]\n",
    "data"
   ]
  },
  {
   "cell_type": "code",
   "execution_count": null,
   "metadata": {
    "collapsed": true
   },
   "outputs": [],
   "source": [
    "data1 = data.set_index(\"from\", drop = False)\n",
    "#emails from cedric in company\n",
    "suspect1data = data1.loc[\"Cedric.Cyrus.Harrison@dtaa.com\", :]\n",
    "g = suspect1data.groupby('to').aggregate(\" \".join).reset_index()\n",
    "g.to = g.to.apply(lambda t: t.split(';'))\n",
    "cchToList = g.to.tolist()\n",
    "cchToList = [p for e in cchToList for p in e]\n",
    "cchList = pandas.DataFrame({'people':cchToList})\n",
    "group1 = cchList.groupby('people').count().reset_index()\n",
    "group1.people = group1.people.apply(lambda t: emailFilterPlus(t))\n",
    "group1 = group1[group1.people.notnull()]\n",
    "group1"
   ]
  },
  {
   "cell_type": "code",
   "execution_count": null,
   "metadata": {
    "collapsed": true
   },
   "outputs": [],
   "source": [
    "#emails from sade in company\n",
    "suspect2data = data1.loc[\"Sade.Lavinia.Colon@dtaa.com\", :]\n",
    "gr = suspect2data.groupby('to').aggregate(\" \".join).reset_index()\n",
    "gr.to = gr.to.apply(lambda t: t.split(';'))\n",
    "slcToList = gr.to.tolist()\n",
    "slcToList = [p for e in slcToList for p in e]\n",
    "slcList = pandas.DataFrame({'people':slcToList})\n",
    "group2 = slcList.groupby('people').count().reset_index()\n",
    "group2.people = group2.people.apply(lambda t: emailFilterPlus(t))\n",
    "group2 = group2[group2.people.notnull()]\n",
    "group2\n",
    "#cedric is on this list"
   ]
  },
  {
   "cell_type": "code",
   "execution_count": null,
   "metadata": {
    "collapsed": true
   },
   "outputs": [],
   "source": [
    "#emails from cyrus in company\n",
    "suspect3data = data1.loc[\"Cyrus.Jin.Park@dtaa.com\", :]\n",
    "gro = suspect3data.groupby('to').aggregate(\" \".join).reset_index()\n",
    "gro.to = gro.to.apply(lambda t: t.split(';'))\n",
    "cjpToList = gro.to.tolist()\n",
    "cjpToList = [p for e in cjpToList for p in e]\n",
    "cjpList = pandas.DataFrame({'people':cjpToList})\n",
    "group3 = cjpList.groupby('people').count().reset_index()\n",
    "group3.people = group3.people.apply(lambda t: emailFilterPlus(t))\n",
    "group3 = group3[group3.people.notnull()]\n",
    "group3"
   ]
  },
  {
   "cell_type": "code",
   "execution_count": null,
   "metadata": {
    "collapsed": true
   },
   "outputs": [],
   "source": [
    "#emails from hector in company\n",
    "suspect4data = data1.loc[\"Hector.Martin.Daugherty@dtaa.com\", :]\n",
    "grou = suspect4data.groupby('to').aggregate(\" \".join).reset_index()\n",
    "grou.to = grou.to.apply(lambda t: t.split(';'))\n",
    "hmdToList = grou.to.tolist()\n",
    "hmdToList = [p for e in hmdToList for p in e]\n",
    "hmdList = pandas.DataFrame({'people':hmdToList})\n",
    "group4 = hmdList.groupby('people').count().reset_index()\n",
    "group4.people = group4.people.apply(lambda t: emailFilterPlus(t))\n",
    "group4 = group4[group4.people.notnull()]\n",
    "group4"
   ]
  },
  {
   "cell_type": "code",
   "execution_count": null,
   "metadata": {
    "collapsed": true
   },
   "outputs": [],
   "source": [
    "#emails from daquan in company\n",
    "suspect5data = data1.loc[\"Daquan.Wing.Gutierrez@dtaa.com\", :]\n",
    "group = suspect5data.groupby('to').aggregate(\" \".join).reset_index()\n",
    "group.to = group.to.apply(lambda t: t.split(';'))\n",
    "dwgToList = group.to.tolist()\n",
    "dwgToList = [p for e in dwgToList for p in e]\n",
    "dwgList = pandas.DataFrame({'people':dwgToList})\n",
    "group5 = dwgList.groupby('people').count().reset_index()\n",
    "group5.people = group5.people.apply(lambda t: emailFilterPlus(t))\n",
    "group5 = group5[group5.people.notnull()]\n",
    "group5"
   ]
  },
  {
   "cell_type": "code",
   "execution_count": null,
   "metadata": {
    "collapsed": true
   },
   "outputs": [],
   "source": []
  }
 ],
 "metadata": {
  "kernelspec": {
   "display_name": "Python 3",
   "language": "python",
   "name": "python3"
  },
  "language_info": {
   "codemirror_mode": {
    "name": "ipython",
    "version": 3
   },
   "file_extension": ".py",
   "mimetype": "text/x-python",
   "name": "python",
   "nbconvert_exporter": "python",
   "pygments_lexer": "ipython3",
   "version": "3.6.3"
  }
 },
 "nbformat": 4,
 "nbformat_minor": 2
}
