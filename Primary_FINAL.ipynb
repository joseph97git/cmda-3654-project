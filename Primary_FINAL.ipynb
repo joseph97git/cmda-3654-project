{
 "cells": [
  {
   "cell_type": "markdown",
   "metadata": {},
   "source": [
    "# Part 3: Final Conclusion"
   ]
  },
  {
   "cell_type": "markdown",
   "metadata": {},
   "source": [
    "## 5 W's\n",
    "<br>\n",
    "**Who:** Cedric Cyrus Harrison\n",
    "<br>\n",
    "**What:** Committed Corporate Espionage by Emailing Confidential Information to\n",
    "> Lockheed Martin\n",
    "\n",
    "**When:** During the Month of August on the Following Dates:\n",
    "<br>\n",
    "> 08/16/2017, 08/19/2017, 08/24/2017, 08/27/2017, 08/30/2017\n",
    "\n",
    "**Where:** DTAA Headquarters\n",
    "<br>\n",
    "**Why:** TBD\n",
    "<br>"
   ]
  },
  {
   "cell_type": "markdown",
   "metadata": {},
   "source": [
    "## Initial Assumptions\n",
    "<br>\n",
    "1. The malicious actor indended to relay confidential information to another **defense technology company**.\n",
    "<br>\n",
    "> **Reasoning**: DTAA is a defense technology company. Thus, any confidential information DTAA has would be most valuable to another defense technology company. \n",
    "<br>\n",
    "2. The malicious actor sent the information through **email**.\n",
    "<br>\n",
    "> **Reasoning**: With the data available, the only direct way to connect the employees of DTAA with those of another company is through email.\n",
    "<br>\n",
    "3. The malicious actor did not send the email amongst multiple members.\n",
    "<br>\n",
    "> **Reasoning**: It would be too risky to send information through email amongst multiple members. The chance of being caught increases drastically if more people are involved.   "
   ]
  },
  {
   "cell_type": "markdown",
   "metadata": {},
   "source": [
    "## Course of Action\n",
    "###### Filter emails to those sent to other defense contracting companies' email addresses, not including group emails."
   ]
  },
  {
   "cell_type": "code",
   "execution_count": null,
   "metadata": {
    "collapsed": true
   },
   "outputs": [],
   "source": [
    "import numpy as np \n",
    "import pandas as pd\n",
    "import matplotlib.pyplot as plt\n",
    "%matplotlib inline"
   ]
  },
  {
   "cell_type": "code",
   "execution_count": null,
   "metadata": {
    "collapsed": true
   },
   "outputs": [],
   "source": [
    "device_info = pd.read_csv('device_info.csv')\n",
    "email_info = pd.read_csv('email_info.csv')\n",
    "employee_info = pd.read_csv('employee_info.csv')\n",
    "http_info = pd.read_csv('http_info.csv')\n",
    "logon_info = pd.read_csv('logon_info.csv')"
   ]
  },
  {
   "cell_type": "code",
   "execution_count": null,
   "metadata": {
    "collapsed": true
   },
   "outputs": [],
   "source": [
    "# Filter Emails Sent Within the Company\n",
    "fil_dtaa = email_info['to'].apply(lambda t: t.split('@')[1] != 'dtaa.com')\n",
    "df_fil_dtaa = email_info[fil_dtaa]\n",
    "# Filter Group Emails\n",
    "fil_group = df_fil_dtaa['to'].apply(lambda t: ';' not in t)\n",
    "df_fil_group = df_fil_dtaa[fil_group]\n",
    "# Filter Non-Defense Contract Company Emails\n",
    "email_to_rm = ['comcast.net','aol.com','gmail.com','yahoo.com','cox.net','hotmail.com','verizon.net',\n",
    "               'juno.com','netzero.com','msn.com','charter.net','earthlink.net','sbcglobal.net','bellsouth.net',\n",
    "               'optonline.net','hp.com']\n",
    "fil_common_email = df_fil_group['to'].apply(lambda t: t.split('@')[1] not in email_to_rm)\n",
    "df_fil_common_email = df_fil_group[fil_common_email]"
   ]
  },
  {
   "cell_type": "code",
   "execution_count": null,
   "metadata": {
    "collapsed": true
   },
   "outputs": [],
   "source": [
    "# Create DataFrames With Only Raytheon, Boeing, Harris, Northropgrumman, and Lockheed Emails\n",
    "df_ray_all = df_fil_common_email[df_fil_common_email['to'].apply(lambda t: t.split('@')[1] == 'raytheon.com')]\n",
    "df_boeing_all = df_fil_common_email[df_fil_common_email['to'].apply(lambda t: t.split('@')[1] == 'boeing.com')]\n",
    "df_harris_all = df_fil_common_email[df_fil_common_email['to'].apply(lambda t: t.split('@')[1] == 'harris.com')]\n",
    "df_north_all = df_fil_common_email[df_fil_common_email['to'].apply(lambda t: t.split('@')[1] == 'northropgrumman.com')]\n",
    "df_lock_all = df_fil_common_email[df_fil_common_email['to'].apply(lambda t: t.split('@')[1] == 'lockheed.com')]"
   ]
  },
  {
   "cell_type": "code",
   "execution_count": null,
   "metadata": {
    "collapsed": true
   },
   "outputs": [],
   "source": [
    "# Get Number of Emails Sent to Each Company\n",
    "num_to_ray = len(df_ray_all)\n",
    "num_to_boeing = len(df_boeing_all)\n",
    "num_to_harris = len(df_harris_all)\n",
    "num_to_north = len(df_north_all)\n",
    "num_to_lock = len(df_lock_all)"
   ]
  },
  {
   "cell_type": "code",
   "execution_count": null,
   "metadata": {
    "scrolled": false
   },
   "outputs": [],
   "source": [
    "x = ['Raytheon','Boeing','Harris','Northrop Grumman','Lockheed Martin']\n",
    "y = [num_to_ray,num_to_boeing,num_to_harris,num_to_north,num_to_lock]\n",
    "fig = plt.figure(figsize=(22,13))\n",
    "fig.subplots_adjust(bottom=0.3)\n",
    "plt.bar(x,y,color=['red','blue','green','orange','purple'])\n",
    "plt.grid(axis='y',zorder=0.0)\n",
    "plt.xticks(size=20)\n",
    "plt.yticks(size=20)\n",
    "plt.title('Number of Emails Sent From DTAA to Defense Contract Companies',size=25)\n",
    "plt.xlabel('Defense Contract Companies',size=20,labelpad=20)\n",
    "plt.ylabel('Number of Emails Sent\\n *excluding group emails',size=20,labelpad=20)"
   ]
  },
  {
   "cell_type": "markdown",
   "metadata": {},
   "source": [
    "## Conclude: All of these Defense Contract Companies were clients of DTAA, except for Lockheed Martin.  "
   ]
  },
  {
   "cell_type": "markdown",
   "metadata": {},
   "source": [
    "## A Closer Look\n",
    "###### Examine How Many Emails Sent to These Companies Based on Individual DTAA Email Addresses "
   ]
  },
  {
   "cell_type": "markdown",
   "metadata": {},
   "source": [
    "### Additional Assumption\n",
    "1. The malicious actor sent an attachment at one point or another containing confidential information\n",
    "<br>\n",
    "> **Reasoning:** It would be impractical to copy everything into an email, especially if the confidential information contained any sort of image or complex diagram."
   ]
  },
  {
   "cell_type": "code",
   "execution_count": null,
   "metadata": {},
   "outputs": [],
   "source": [
    "# Filter All Emails with No Attachments\n",
    "fil_no_attach = df_fil_common_email['attachments'].apply(lambda t: t != 0)\n",
    "df_pure = df_fil_common_email[fil_no_attach]\n",
    "\n",
    "# Create DataFrames With Only Raytheon, Boeing, Harris, Northropgrumman, and Lockheed Emails\n",
    "df_ray = df_pure[df_pure['to'].apply(lambda t: t.split('@')[1] == 'raytheon.com')]\n",
    "df_boeing = df_pure[df_pure['to'].apply(lambda t: t.split('@')[1] == 'boeing.com')]\n",
    "df_harris = df_pure[df_pure['to'].apply(lambda t: t.split('@')[1] == 'harris.com')]\n",
    "df_north = df_pure[df_pure['to'].apply(lambda t: t.split('@')[1] == 'northropgrumman.com')]\n",
    "df_lock = df_pure[df_pure['to'].apply(lambda t: t.split('@')[1] == 'lockheed.com')]"
   ]
  },
  {
   "cell_type": "code",
   "execution_count": null,
   "metadata": {},
   "outputs": [],
   "source": [
    "# Plotting Emails Sent to Boeing by DTAA User Email Address\n",
    "df_boeing_cnts = pd.DataFrame(columns=['email','counts_from'])\n",
    "df_boeing_cnts['email'] = list(df_boeing.groupby('from').size().index)\n",
    "df_boeing_cnts['counts_from'] = list(df_boeing.groupby('from').size())\n",
    "df_boeing_cnts.sort_values('counts_from',ascending=False).head(10)\n",
    "\n",
    "x_boe = list(df_boeing_cnts.email.unique())\n",
    "y_boe = list(df_boeing_cnts.counts_from)\n",
    "ax = plt.subplots(1,1,figsize=(40,15))\n",
    "plt.plot(x_boe,y_boe)\n",
    "plt.xticks(rotation=90,size=15)\n",
    "plt.yticks(list(range(1,17,1)),size=30)\n",
    "plt.grid(axis='y',zorder=0.0)\n",
    "plt.title('Number of Emails Sent From DTAA to Boeing',size=40)\n",
    "plt.ylabel('Number of Emails Sent\\n *excluding group emails\\n *excluding 0 attachments',size=30,labelpad=30)\n",
    "plt.xlabel('DTAA Email Addresses',size=30,labelpad=20)\n",
    "plt.margins(0.005)\n",
    "plt.show()"
   ]
  },
  {
   "cell_type": "code",
   "execution_count": null,
   "metadata": {},
   "outputs": [],
   "source": [
    "# Plotting Emails Sent to Harris by DTAA User Email Address\n",
    "df_harris_cnts = pd.DataFrame(columns=['email','counts_from'])\n",
    "df_harris_cnts['email'] = list(df_harris.groupby('from').size().index)\n",
    "df_harris_cnts['counts_from'] = list(df_harris.groupby('from').size())\n",
    "df_harris_cnts.sort_values('counts_from',ascending=False).head(10)\n",
    "\n",
    "x_harris = list(df_harris_cnts.email.unique())\n",
    "y_harris = list(df_harris_cnts.counts_from)\n",
    "ax = plt.subplots(1,1,figsize=(40,15))\n",
    "plt.plot(x_harris,y_harris)\n",
    "plt.xticks(rotation=90,size=15)\n",
    "plt.yticks(list(range(1,23,1)),size=30)\n",
    "plt.grid(axis='y',zorder=0.0)\n",
    "plt.title('Number of Emails Sent From DTAA to Harris',size=40)\n",
    "plt.ylabel('Number of Emails Sent\\n *excluding group emails\\n *excluding 0 attachments',size=30,labelpad=30)\n",
    "plt.xlabel('DTAA Email Addresses',size=30,labelpad=20)\n",
    "plt.margins(0.005)\n",
    "plt.show()"
   ]
  },
  {
   "cell_type": "code",
   "execution_count": null,
   "metadata": {},
   "outputs": [],
   "source": [
    "# Plotting Emails Sent to North by DTAA User Email Address\n",
    "df_north_cnts = pd.DataFrame(columns=['email','counts_from'])\n",
    "df_north_cnts['email'] = list(df_north.groupby('from').size().index)\n",
    "df_north_cnts['counts_from'] = list(df_north.groupby('from').size())\n",
    "df_north_cnts.sort_values('counts_from',ascending=False).head(10)\n",
    "\n",
    "x_north = list(df_north_cnts.email.unique())\n",
    "y_north = list(df_north_cnts.counts_from)\n",
    "ax = plt.subplots(1,1,figsize=(40,15))\n",
    "plt.plot(x_north,y_north)\n",
    "plt.xticks(rotation=90,size=15)\n",
    "plt.yticks(list(range(1,24,1)),size=30)\n",
    "plt.grid(axis='y',zorder=0.0)\n",
    "plt.title('Number of Emails Sent From DTAA to Northrop Grumman',size=40)\n",
    "plt.ylabel('Number of Emails Sent\\n *excluding group emails\\n *excluding 0 attachments',size=30,labelpad=30)\n",
    "plt.xlabel('DTAA Email Addresses',size=30,labelpad=20)\n",
    "plt.margins(0.005)\n",
    "plt.show()"
   ]
  },
  {
   "cell_type": "code",
   "execution_count": null,
   "metadata": {},
   "outputs": [],
   "source": [
    "# Plotting Emails Sent to Raytheon by DTAA User Email Address\n",
    "df_ray_cnts = pd.DataFrame(columns=['email','counts_from'])\n",
    "df_ray_cnts['email'] = list(df_ray.groupby('from').size().index)\n",
    "df_ray_cnts['counts_from'] = list(df_ray.groupby('from').size())\n",
    "df_ray_cnts.sort_values('counts_from',ascending=False).head(10)\n",
    "\n",
    "x_ray = list(df_ray_cnts.email.unique())\n",
    "y_ray = list(df_ray_cnts.counts_from)\n",
    "ax = plt.subplots(1,1,figsize=(40,15))\n",
    "plt.plot(x_ray,y_ray)\n",
    "plt.xticks(rotation=90,size=15)\n",
    "plt.yticks(list(range(1,35,1)),size=30)\n",
    "plt.grid(axis='y',zorder=0.0)\n",
    "plt.title('Number of Emails Sent From DTAA to Raytheon',size=40)\n",
    "plt.ylabel('Number of Emails Sent\\n *excluding group emails\\n *excluding 0 attachments',size=30,labelpad=30)\n",
    "plt.xlabel('DTAA Email Addresses',size=30,labelpad=20)\n",
    "plt.margins(0.005)\n",
    "plt.show()"
   ]
  },
  {
   "cell_type": "markdown",
   "metadata": {},
   "source": [
    "## All Emails Sent From DTAA to Lockheed Martin\n",
    "\n",
    "** *not including group emails **"
   ]
  },
  {
   "cell_type": "code",
   "execution_count": null,
   "metadata": {},
   "outputs": [],
   "source": [
    "df_lock_all"
   ]
  },
  {
   "cell_type": "code",
   "execution_count": null,
   "metadata": {},
   "outputs": [],
   "source": [
    "employee_info[employee_info.email == 'Cedric.Cyrus.Harrison@dtaa.com']"
   ]
  },
  {
   "cell_type": "markdown",
   "metadata": {},
   "source": [
    "## DTAA Employees Who Left Early\n",
    "** based on logon activity **"
   ]
  },
  {
   "cell_type": "code",
   "execution_count": null,
   "metadata": {},
   "outputs": [],
   "source": [
    "# separating date into date_only and time only\n",
    "device_info['date_only'] = device_info.date.apply(lambda t: t.split(' ')[0])\n",
    "device_info['time_only'] = device_info.date.apply(lambda t: t.split(' ')[1])\n",
    "#get the dates the person has logged on/off of\n",
    "pd_person_timeseries = pd.DataFrame(list(device_info.user.unique()),columns=['user'])\n",
    "pd_person_timeseries['dates'] = pd_person_timeseries.user.apply(lambda t: device_info[device_info.user == t].date_only.unique())\n",
    "#get the start date for each person\n",
    "pd_person_timeseries['start_date'] = pd_person_timeseries.dates.apply(lambda t: t[0])\n",
    "#get the end date for each person\n",
    "pd_person_timeseries['end_date'] = pd_person_timeseries.dates.apply(lambda t: t[len(t)-1])\n",
    "fil_october = pd_person_timeseries.end_date.apply(lambda t: int(t.split('/')[0]) != 10)\n",
    "fil_person = pd_person_timeseries[fil_october]\n",
    "fil_person"
   ]
  }
 ],
 "metadata": {
  "kernelspec": {
   "display_name": "Python 3",
   "language": "python",
   "name": "python3"
  },
  "language_info": {
   "codemirror_mode": {
    "name": "ipython",
    "version": 3
   },
   "file_extension": ".py",
   "mimetype": "text/x-python",
   "name": "python",
   "nbconvert_exporter": "python",
   "pygments_lexer": "ipython3",
   "version": "3.6.1"
  }
 },
 "nbformat": 4,
 "nbformat_minor": 2
}
