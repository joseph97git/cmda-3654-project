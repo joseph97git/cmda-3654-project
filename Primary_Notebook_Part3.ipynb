{
 "cells": [
  {
   "cell_type": "code",
   "execution_count": null,
   "metadata": {
    "collapsed": true
   },
   "outputs": [],
   "source": [
    "import numpy as np \n",
    "import pandas as pd\n",
    "import matplotlib.pyplot as plt\n",
    "%matplotlib inline"
   ]
  },
  {
   "cell_type": "code",
   "execution_count": null,
   "metadata": {
    "collapsed": true
   },
   "outputs": [],
   "source": [
    "device_info = pd.read_csv('device_info.csv')\n",
    "email_info = pd.read_csv('email_info.csv')\n",
    "employee_info = pd.read_csv('employee_info.csv')\n",
    "http_info = pd.read_csv('http_info.csv')\n",
    "logon_info = pd.read_csv('logon_info.csv')"
   ]
  },
  {
   "cell_type": "code",
   "execution_count": null,
   "metadata": {},
   "outputs": [],
   "source": [
    "employee_info.head()"
   ]
  },
  {
   "cell_type": "code",
   "execution_count": null,
   "metadata": {},
   "outputs": [],
   "source": [
    "# Filter Emails Sent Within the Company\n",
    "fil_dtaa = email_info['to'].apply(lambda t: t.split('@')[1] != 'dtaa.com')\n",
    "df_fil_dtaa = email_info[fil_dtaa]\n",
    "# Filter Group Emails\n",
    "fil_group = df_fil_dtaa['to'].apply(lambda t: ';' not in t)\n",
    "df_fil_group = df_fil_dtaa[fil_group]\n",
    "# Filter Non-Defense Contract Company Emails\n",
    "email_to_rm = ['comcast.net','aol.com','gmail.com','yahoo.com','cox.net','hotmail.com','verizon.net',\n",
    "               'juno.com','netzero.com','msn.com','charter.net','earthlink.net','sbcglobal.net','bellsouth.net',\n",
    "               'optonline.net','hp.com']\n",
    "fil_common_email = df_fil_group['to'].apply(lambda t: t.split('@')[1] not in email_to_rm)\n",
    "df_fil_common_email = df_fil_group[fil_common_email]\n",
    "# Filter All Emails with No Attachments\n",
    "fil_no_attach = df_fil_common_email['attachments'].apply(lambda t: t != 0)\n",
    "df_pure = df_fil_common_email[fil_no_attach]"
   ]
  },
  {
   "cell_type": "code",
   "execution_count": null,
   "metadata": {},
   "outputs": [],
   "source": [
    "# Suspect Company Emails\n",
    "print(df_pure['to'].apply(lambda t: t.split('@')[1]).unique())"
   ]
  },
  {
   "cell_type": "code",
   "execution_count": null,
   "metadata": {},
   "outputs": [],
   "source": [
    "# Create DataFrames With Only Raytheon, Boeing, Harris, Northropgrumman, and Lockheed Emails\n",
    "df_ray = df_pure[df_pure['to'].apply(lambda t: t.split('@')[1] == 'raytheon.com')]\n",
    "df_boeing = df_pure[df_pure['to'].apply(lambda t: t.split('@')[1] == 'boeing.com')]\n",
    "df_harris = df_pure[df_pure['to'].apply(lambda t: t.split('@')[1] == 'harris.com')]\n",
    "df_north = df_pure[df_pure['to'].apply(lambda t: t.split('@')[1] == 'northropgrumman.com')]\n",
    "df_lock = df_pure[df_pure['to'].apply(lambda t: t.split('@')[1] == 'lockheed.com')]"
   ]
  },
  {
   "cell_type": "code",
   "execution_count": null,
   "metadata": {
    "scrolled": false
   },
   "outputs": [],
   "source": [
    "df_ray_cnts = pd.DataFrame(columns=['email','counts_from'])\n",
    "df_ray_cnts['email'] = list(df_ray.groupby('from').size().index)\n",
    "df_ray_cnts['counts_from'] = list(df_ray.groupby('from').size())\n",
    "df_ray_cnts.sort_values('counts_from',ascending=False).head(10)"
   ]
  },
  {
   "cell_type": "code",
   "execution_count": null,
   "metadata": {},
   "outputs": [],
   "source": [
    "x_ray = list(df_ray_cnts.email.unique())\n",
    "y_ray = list(df_ray_cnts.counts_from)\n",
    "#plot_ray = plt.figure(figsize=(20,5))\n",
    "ax = plt.subplots(1,1,figsize=(20,5))\n",
    "plt.plot(x_ray,y_ray)\n",
    "plt.xticks(rotation=90,size=15)\n",
    "plt.xticks(range(len), list(df_ray_cnts.email), color='red')\n",
    "plt.show()"
   ]
  },
  {
   "cell_type": "code",
   "execution_count": null,
   "metadata": {
    "scrolled": true
   },
   "outputs": [],
   "source": [
    "df_boeing_cnts = pd.DataFrame(columns=['email','counts_from'])\n",
    "df_boeing_cnts['email'] = list(df_boeing.groupby('from').size().index)\n",
    "df_boeing_cnts['counts_from'] = list(df_boeing.groupby('from').size())\n",
    "df_boeing_cnts.sort_values('counts_from',ascending=False).head(10)"
   ]
  },
  {
   "cell_type": "code",
   "execution_count": null,
   "metadata": {
    "scrolled": true
   },
   "outputs": [],
   "source": [
    "df_harris_cnts = pd.DataFrame(columns=['email','counts_from'])\n",
    "df_harris_cnts['email'] = list(df_harris.groupby('from').size().index)\n",
    "df_harris_cnts['counts_from'] = list(df_harris.groupby('from').size())\n",
    "df_harris_cnts.sort_values('counts_from',ascending=False).head(10)"
   ]
  },
  {
   "cell_type": "code",
   "execution_count": null,
   "metadata": {},
   "outputs": [],
   "source": [
    "df_north_cnts = pd.DataFrame(columns=['email','counts_from'])\n",
    "df_north_cnts['email'] = list(df_north.groupby('from').size().index)\n",
    "df_north_cnts['counts_from'] = list(df_north.groupby('from').size())\n",
    "df_north_cnts.sort_values('counts_from',ascending=False).head(10)"
   ]
  },
  {
   "cell_type": "code",
   "execution_count": null,
   "metadata": {},
   "outputs": [],
   "source": [
    "df_lock"
   ]
  },
  {
   "cell_type": "code",
   "execution_count": null,
   "metadata": {
    "collapsed": true
   },
   "outputs": [],
   "source": []
  }
 ],
 "metadata": {
  "kernelspec": {
   "display_name": "Python 3",
   "language": "python",
   "name": "python3"
  },
  "language_info": {
   "codemirror_mode": {
    "name": "ipython",
    "version": 3
   },
   "file_extension": ".py",
   "mimetype": "text/x-python",
   "name": "python",
   "nbconvert_exporter": "python",
   "pygments_lexer": "ipython3",
   "version": "3.6.1"
  }
 },
 "nbformat": 4,
 "nbformat_minor": 2
}
