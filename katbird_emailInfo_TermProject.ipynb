{
 "cells": [
  {
   "cell_type": "markdown",
   "metadata": {},
   "source": [
    "This notebook looks at the emails sent from employees to people outside the company, while many of them are personal emails there are a large amount sent to emails at other companies."
   ]
  },
  {
   "cell_type": "code",
   "execution_count": null,
   "metadata": {
    "collapsed": true
   },
   "outputs": [],
   "source": [
    "import pandas\n",
    "import numpy\n",
    "devices = pandas.read_csv('device_info.csv') \n",
    "emails = pandas.read_csv('email_info.csv')\n",
    "employees = pandas.read_csv('employee_info.csv') \n",
    "websites = pandas.read_csv('http_info.csv')\n",
    "logons = pandas.read_csv('logon_info.csv')"
   ]
  },
  {
   "cell_type": "code",
   "execution_count": null,
   "metadata": {
    "collapsed": true
   },
   "outputs": [],
   "source": [
    "emails"
   ]
  },
  {
   "cell_type": "code",
   "execution_count": null,
   "metadata": {},
   "outputs": [],
   "source": [
    "employees"
   ]
  },
  {
   "cell_type": "code",
   "execution_count": null,
   "metadata": {},
   "outputs": [],
   "source": [
    "#create table of emails sent to outside email address\n",
    "#split on ; and split on @ and look for not dtaa.com\n",
    "table = emails.iloc[:,1:]\n",
    "table"
   ]
  },
  {
   "cell_type": "code",
   "execution_count": null,
   "metadata": {},
   "outputs": [],
   "source": [
    "table.to = table.to.apply(lambda t: t.replace(';', ' '))\n",
    "\n",
    "def emailFilter(email):\n",
    "    if \"@dtaa.com\" not in email:\n",
    "        return email   \n",
    "table.to = table.to.apply(lambda t: emailFilter(t))\n",
    "table = table[table.to.notnull()]\n",
    "table"
   ]
  },
  {
   "cell_type": "markdown",
   "metadata": {},
   "source": [
    "Looking at the number of emails employees sent to addresses outside of the company. We expected salesmen to have high numbers of outside emails."
   ]
  },
  {
   "cell_type": "code",
   "execution_count": null,
   "metadata": {},
   "outputs": [],
   "source": [
    "table2 = table.groupby('from').to.aggregate(\" \".join).reset_index()\n",
    "table2.to = table2.to.apply(lambda t: t.split(' '))\n",
    "table2['number'] = table2.to.apply(lambda t: len(t))\n",
    "table2"
   ]
  },
  {
   "cell_type": "code",
   "execution_count": null,
   "metadata": {
    "collapsed": true
   },
   "outputs": [],
   "source": [
    "suspects = ['Levi.Keegan.Foley@dtaa.com', 'Palmer.Ahmed.Sutton@dtaa.com', 'Carson.Caesar.Olson@dtaa.com', 'Jada.Quinn.Vang@dtaa.com'\n",
    "           'Chaney.Sean.Fuentes@dtaa.com', 'Cedric.Cyrus.Harrison@dtaa.com']"
   ]
  },
  {
   "cell_type": "markdown",
   "metadata": {},
   "source": [
    "Reasoning that someone who had leaked information would want to leave the company we looked at those who had last logons before the end of October and what emails they sent outside the company."
   ]
  },
  {
   "cell_type": "code",
   "execution_count": null,
   "metadata": {},
   "outputs": [],
   "source": [
    "sus1 = employees[employees.email == \"Levi.Keegan.Foley@dtaa.com\"]\n",
    "sus1"
   ]
  },
  {
   "cell_type": "code",
   "execution_count": null,
   "metadata": {},
   "outputs": [],
   "source": [
    "suspect1 = table[table['from'] == \"Levi.Keegan.Foley@dtaa.com\"]\n",
    "suspect1"
   ]
  },
  {
   "cell_type": "code",
   "execution_count": null,
   "metadata": {},
   "outputs": [],
   "source": [
    "sus2 = employees[employees.email == \"Palmer.Ahmed.Sutton@dtaa.com\"]\n",
    "sus2"
   ]
  },
  {
   "cell_type": "code",
   "execution_count": null,
   "metadata": {},
   "outputs": [],
   "source": [
    "suspect2 = table[table['from'] == \"Palmer.Ahmed.Sutton@dtaa.com\"]\n",
    "suspect2"
   ]
  },
  {
   "cell_type": "code",
   "execution_count": null,
   "metadata": {},
   "outputs": [],
   "source": [
    "sus3 = employees[employees.email == \"Carson.Caesar.Olson@dtaa.com\"]\n",
    "sus3"
   ]
  },
  {
   "cell_type": "code",
   "execution_count": null,
   "metadata": {},
   "outputs": [],
   "source": [
    "suspect3 = table[table['from'] == \"Carson.Caesar.Olson@dtaa.com\"]\n",
    "suspect3"
   ]
  },
  {
   "cell_type": "code",
   "execution_count": null,
   "metadata": {},
   "outputs": [],
   "source": [
    "sus4 = employees[employees.email == \"Jada.Quinn.Vang@dtaa.com\"]\n",
    "sus4"
   ]
  },
  {
   "cell_type": "code",
   "execution_count": null,
   "metadata": {},
   "outputs": [],
   "source": [
    "suspect4 = table[table['from'] == \"Jada.Quinn.Vang@dtaa.com\"]\n",
    "suspect4"
   ]
  },
  {
   "cell_type": "code",
   "execution_count": null,
   "metadata": {},
   "outputs": [],
   "source": [
    "sus5 = employees[employees.email == \"Chaney.Sean.Fuentes@dtaa.com\"]\n",
    "sus5"
   ]
  },
  {
   "cell_type": "code",
   "execution_count": null,
   "metadata": {},
   "outputs": [],
   "source": [
    "suspect5 = table[table['from'] == \"Chaney.Sean.Fuentes@dtaa.com\"]\n",
    "suspect5"
   ]
  },
  {
   "cell_type": "code",
   "execution_count": null,
   "metadata": {},
   "outputs": [],
   "source": [
    "sus6 = employees[employees.email == \"Cedric.Cyrus.Harrison@dtaa.com\"]\n",
    "sus6"
   ]
  },
  {
   "cell_type": "code",
   "execution_count": null,
   "metadata": {},
   "outputs": [],
   "source": [
    "suspect6 = table[table['from'] == \"Cedric.Cyrus.Harrison@dtaa.com\"]\n",
    "suspect6"
   ]
  },
  {
   "cell_type": "code",
   "execution_count": null,
   "metadata": {},
   "outputs": [],
   "source": [
    "sus7 = employees[employees.email == \"Whilemina.Shafira.Perry@dtaa.com\"]\n",
    "sus7"
   ]
  },
  {
   "cell_type": "code",
   "execution_count": null,
   "metadata": {},
   "outputs": [],
   "source": [
    "suspect7 = table[table['from'] == \"Whilemina.Shafira.Perry@dtaa.com\"]\n",
    "suspect7"
   ]
  },
  {
   "cell_type": "code",
   "execution_count": null,
   "metadata": {},
   "outputs": [],
   "source": [
    "sus8 = employees[employees.email == \"Lucian.Rajah.Lloyd@dtaa.com\"]\n",
    "sus8"
   ]
  },
  {
   "cell_type": "code",
   "execution_count": null,
   "metadata": {},
   "outputs": [],
   "source": [
    "suspect8 = table[table['from'] == \"Lucian.Rajah.Lloyd@dtaa.com\"]\n",
    "suspect8"
   ]
  },
  {
   "cell_type": "code",
   "execution_count": null,
   "metadata": {},
   "outputs": [],
   "source": [
    "sus9 = employees[employees.email == \"Denise.Serina.Le@dtaa.com\"]\n",
    "sus9"
   ]
  },
  {
   "cell_type": "code",
   "execution_count": null,
   "metadata": {},
   "outputs": [],
   "source": [
    "suspect9 = table[table['from'] == \"Denise.Serina.Le@dtaa.com\"]\n",
    "suspect9"
   ]
  }
 ],
 "metadata": {
  "kernelspec": {
   "display_name": "Python 3",
   "language": "python",
   "name": "python3"
  },
  "language_info": {
   "codemirror_mode": {
    "name": "ipython",
    "version": 3
   },
   "file_extension": ".py",
   "mimetype": "text/x-python",
   "name": "python",
   "nbconvert_exporter": "python",
   "pygments_lexer": "ipython3",
   "version": "3.6.3"
  }
 },
 "nbformat": 4,
 "nbformat_minor": 2
}
