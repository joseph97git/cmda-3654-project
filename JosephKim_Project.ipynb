{
 "cells": [
  {
   "cell_type": "markdown",
   "metadata": {},
   "source": [
    "***OVERALL PLAN***\n",
    "\n",
    "email_info:\n",
    "-email Attachments (Filter 0 attachments) (Ash)\n",
    "-emails not associated with company (Tori)\n",
    "-incorporate times and emails\n",
    "\n",
    "logon_info:\n",
    "-logon over time in off hours\n",
    "-within 10-100 PCs access suspicious \n",
    "\n",
    "device_info:\n",
    "-connections over time\n",
    "\n",
    "http_info.csv:\n",
    "-get rid of common websites (me)\n",
    "-get counts of common websites and remove\n",
    "\n",
    "employee info:\n",
    "-groupby roles and PCs access (me)"
   ]
  },
  {
   "cell_type": "code",
   "execution_count": null,
   "metadata": {
    "collapsed": true
   },
   "outputs": [],
   "source": [
    "import numpy as np \n",
    "import pandas as pd\n",
    "import matplotlib.pyplot as plt"
   ]
  },
  {
   "cell_type": "code",
   "execution_count": null,
   "metadata": {
    "collapsed": true
   },
   "outputs": [],
   "source": [
    "device_info = pd.read_csv('device_info.csv')\n",
    "email_info = pd.read_csv('email_info.csv')\n",
    "employee_info = pd.read_csv('employee_info.csv')\n",
    "http_info = pd.read_csv('http_info.csv')\n",
    "logon_info = pd.read_csv('logon_info.csv')"
   ]
  },
  {
   "cell_type": "code",
   "execution_count": null,
   "metadata": {},
   "outputs": [],
   "source": [
    "device_info.head()"
   ]
  },
  {
   "cell_type": "code",
   "execution_count": null,
   "metadata": {},
   "outputs": [],
   "source": [
    "email_info.head()"
   ]
  },
  {
   "cell_type": "code",
   "execution_count": null,
   "metadata": {},
   "outputs": [],
   "source": [
    "employee_info.head()"
   ]
  },
  {
   "cell_type": "code",
   "execution_count": null,
   "metadata": {},
   "outputs": [],
   "source": [
    "http_info.head()"
   ]
  },
  {
   "cell_type": "code",
   "execution_count": null,
   "metadata": {},
   "outputs": [],
   "source": [
    "logon_info.head()"
   ]
  },
  {
   "cell_type": "markdown",
   "metadata": {},
   "source": [
    "***EXPLORING IF USER IS NOT USING THEIR USUAL COMPUTER***"
   ]
  },
  {
   "cell_type": "code",
   "execution_count": null,
   "metadata": {},
   "outputs": [],
   "source": [
    "users = list(logon_info.user)\n",
    "pcs = list(logon_info.pc)\n",
    "unique_users = list(logon_info.user.unique())\n",
    "unique_pcs = list(logon_info.pc.unique())"
   ]
  },
  {
   "cell_type": "code",
   "execution_count": null,
   "metadata": {},
   "outputs": [],
   "source": [
    "users_pcs = list(zip(users,pcs))\n",
    "unique_users_pcs = list(set(users_pcs))"
   ]
  },
  {
   "cell_type": "code",
   "execution_count": null,
   "metadata": {
    "scrolled": true
   },
   "outputs": [],
   "source": [
    "df_unique_users_pcs = pd.DataFrame(unique_users_pcs, columns=['user', 'pc'])\n",
    "df_unique_users_pcs"
   ]
  },
  {
   "cell_type": "code",
   "execution_count": null,
   "metadata": {},
   "outputs": [],
   "source": [
    "num_unique_access = []\n",
    "for i in list(df_unique_users_pcs.user):\n",
    "    num = len(df_unique_users_pcs[df_unique_users_pcs.user == i])\n",
    "    num_unique_access.append(num)\n",
    "num_unique_access"
   ]
  },
  {
   "cell_type": "code",
   "execution_count": null,
   "metadata": {
    "scrolled": true
   },
   "outputs": [],
   "source": [
    "df_unique_users_pcs['num_unique_pc_access'] = num_unique_access\n",
    "df_unique_users_pcs"
   ]
  },
  {
   "cell_type": "code",
   "execution_count": null,
   "metadata": {},
   "outputs": [],
   "source": [
    "logon_info.head()"
   ]
  },
  {
   "cell_type": "code",
   "execution_count": null,
   "metadata": {
    "scrolled": true
   },
   "outputs": [],
   "source": [
    "logon_info[logon_info.user == 'HMD0974']"
   ]
  },
  {
   "cell_type": "code",
   "execution_count": null,
   "metadata": {},
   "outputs": [],
   "source": [
    "df_unique_users_pcs[df_unique_users_pcs.user == 'CJP0221']"
   ]
  },
  {
   "cell_type": "markdown",
   "metadata": {},
   "source": [
    "CONCLUSION: MANY USERS USE DIFFERENT PCS, DIFFICULT TO DETERMINE ANOMOLIES IF USER LOGS ON TO A DIFFERENT PC."
   ]
  },
  {
   "cell_type": "code",
   "execution_count": null,
   "metadata": {
    "scrolled": true
   },
   "outputs": [],
   "source": [
    "df_unique_users_pcs.head()"
   ]
  },
  {
   "cell_type": "code",
   "execution_count": null,
   "metadata": {
    "scrolled": true
   },
   "outputs": [],
   "source": [
    "df_unique_users_pcs[df_unique_users_pcs.pc == 'PC-2969']"
   ]
  },
  {
   "cell_type": "code",
   "execution_count": null,
   "metadata": {
    "scrolled": true
   },
   "outputs": [],
   "source": [
    "df_unique_users_pcs[df_unique_users_pcs.user == 'HKW0211'].head()"
   ]
  },
  {
   "cell_type": "code",
   "execution_count": null,
   "metadata": {
    "scrolled": true
   },
   "outputs": [],
   "source": [
    "logon_info[logon_info.user == 'OVW0244']"
   ]
  },
  {
   "cell_type": "markdown",
   "metadata": {},
   "source": [
    "***EXPLORE AMONG UNIQUE PC ACCESS < 10 IF THERE IS AN ANOMALY***"
   ]
  },
  {
   "cell_type": "code",
   "execution_count": null,
   "metadata": {
    "scrolled": true
   },
   "outputs": [],
   "source": [
    "df_unique_users_pcs[df_unique_users_pcs.num_unique_pc_access == 2]"
   ]
  },
  {
   "cell_type": "code",
   "execution_count": null,
   "metadata": {},
   "outputs": [],
   "source": [
    "len(logon_info.user.unique())"
   ]
  },
  {
   "cell_type": "markdown",
   "metadata": {},
   "source": [
    "***CREATE DIRECTORY TO ASSOCIATE USER_ID AND USER INFO (NAME,EMAIL,ROLE,SUPERVISOR)***"
   ]
  },
  {
   "cell_type": "code",
   "execution_count": null,
   "metadata": {},
   "outputs": [],
   "source": [
    "employee_info.head()"
   ]
  },
  {
   "cell_type": "code",
   "execution_count": null,
   "metadata": {
    "scrolled": true
   },
   "outputs": [],
   "source": [
    "#df_unique_users_pcs"
   ]
  },
  {
   "cell_type": "code",
   "execution_count": null,
   "metadata": {},
   "outputs": [],
   "source": [
    "person_info = list(zip(*[list(employee_info.employee_name),list(employee_info.email),list(employee_info.role),list(employee_info.supervisor)]))\n",
    "user_dir = dict(list(zip(list(employee_info.user_id),person_info)))"
   ]
  },
  {
   "cell_type": "code",
   "execution_count": null,
   "metadata": {},
   "outputs": [],
   "source": [
    "df_unique_users_pcs['user_info'] = df_unique_users_pcs.user.apply(lambda i: user_dir[i])\n",
    "df_unique_users_pcs.head()"
   ]
  },
  {
   "cell_type": "markdown",
   "metadata": {},
   "source": [
    "***GET VALUE COUNTS WEBSITES VISITED, ALLOW EASY FILTERING OF COMMONLY VISITED WEBSITES***"
   ]
  },
  {
   "cell_type": "code",
   "execution_count": null,
   "metadata": {},
   "outputs": [],
   "source": [
    "http_info.head()"
   ]
  },
  {
   "cell_type": "code",
   "execution_count": null,
   "metadata": {},
   "outputs": [],
   "source": [
    "http_info['base_url'] = http_info.url.apply(lambda i: i.split('/')[2])"
   ]
  },
  {
   "cell_type": "code",
   "execution_count": null,
   "metadata": {},
   "outputs": [],
   "source": [
    "url_cnts = http_info.base_url.value_counts()\n",
    "url_dir = dict(list(zip(list(url_cnts.index),list(url_cnts))))"
   ]
  },
  {
   "cell_type": "code",
   "execution_count": null,
   "metadata": {},
   "outputs": [],
   "source": [
    "http_info['url_cnts'] = http_info.url.apply(lambda i: url_dir[i.split('/')[2]])"
   ]
  },
  {
   "cell_type": "code",
   "execution_count": null,
   "metadata": {},
   "outputs": [],
   "source": [
    "http_info[http_info.url_cnts == 1]"
   ]
  },
  {
   "cell_type": "code",
   "execution_count": null,
   "metadata": {
    "collapsed": true
   },
   "outputs": [],
   "source": []
  }
 ],
 "metadata": {
  "kernelspec": {
   "display_name": "Python 3",
   "language": "python",
   "name": "python3"
  },
  "language_info": {
   "codemirror_mode": {
    "name": "ipython",
    "version": 3
   },
   "file_extension": ".py",
   "mimetype": "text/x-python",
   "name": "python",
   "nbconvert_exporter": "python",
   "pygments_lexer": "ipython3",
   "version": "3.6.1"
  }
 },
 "nbformat": 4,
 "nbformat_minor": 2
}
